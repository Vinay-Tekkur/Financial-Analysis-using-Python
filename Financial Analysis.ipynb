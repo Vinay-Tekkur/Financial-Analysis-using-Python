{
 "cells": [
  {
   "cell_type": "code",
   "execution_count": 1,
   "id": "5c7b5304",
   "metadata": {},
   "outputs": [],
   "source": [
    "#Data \n",
    "revenue = [14574.49, 7606.46, 8611.41, 9175.41, 8058.65, 8105.44, 11496.28, 9766.09, 10305.32, 14379.96, 10713.97, 15433.50]\n",
    "expenses = [12051.82, 5695.07, 12319.20, 12089.72, 8658.57, 840.20, 3285.73, 5821.12, 6976.93, 16618.61, 10054.37, 3803.96]"
   ]
  },
  {
   "cell_type": "code",
   "execution_count": 2,
   "id": "2e1f01fd",
   "metadata": {},
   "outputs": [
    {
     "name": "stdout",
     "output_type": "stream",
     "text": [
      "[2523, 1911, -3708, -2914, -600, 7265, 8211, 3945, 3328, -2239, 660, 11630]\n"
     ]
    }
   ],
   "source": [
    "# Calculation of profit (revenue - expenses)\n",
    "\n",
    "profit_month = []\n",
    "for i in range(len(revenue)):\n",
    "    profit_month.append(round(revenue[i] - expenses[i]))\n",
    "    \n",
    "print(profit_month)\n",
    "    "
   ]
  },
  {
   "cell_type": "code",
   "execution_count": 3,
   "id": "0bc11309",
   "metadata": {},
   "outputs": [
    {
     "name": "stdout",
     "output_type": "stream",
     "text": [
      "[757, 573, -1112, -874, -180, 2180, 2463, 1184, 998, -672, 198, 3489]\n"
     ]
    }
   ],
   "source": [
    "# Calculation of tax 30% on profit (profit * 30%)\n",
    "\n",
    "tax_on_profit = []\n",
    "for i in range(len(profit_month)):\n",
    "    tax_on_profit.append(round(profit_month[i] * 30 / 100))\n",
    "    \n",
    "print(tax_on_profit)\n"
   ]
  },
  {
   "cell_type": "code",
   "execution_count": 4,
   "id": "12c5d53f",
   "metadata": {},
   "outputs": [
    {
     "name": "stdout",
     "output_type": "stream",
     "text": [
      "[1766, 1338, -2596, -2040, -420, 5085, 5748, 2761, 2330, -1567, 462, 8141]\n"
     ]
    }
   ],
   "source": [
    "# profit after tax\n",
    "after_tax_on_profit = []\n",
    "for i in range(len(profit_month)):\n",
    "    after_tax_on_profit.append(round(profit_month[i] - tax_on_profit[i]))\n",
    "print(after_tax_on_profit)"
   ]
  },
  {
   "cell_type": "code",
   "execution_count": 7,
   "id": "0af1e323",
   "metadata": {},
   "outputs": [
    {
     "name": "stdout",
     "output_type": "stream",
     "text": [
      "[12.12, 17.59, -30.15, -22.23, -5.21, 62.74, 50.0, 28.27, 22.61, -10.9, 4.31, 52.75]\n"
     ]
    }
   ],
   "source": [
    "# profit margin after tax\n",
    "\n",
    "profit_margin = []\n",
    "\n",
    "for i in range(len(after_tax_on_profit)):\n",
    "    profit_margin.append(round(after_tax_on_profit[i]/revenue[i] * 100, 2))\n",
    "    \n",
    "print(profit_margin)"
   ]
  },
  {
   "cell_type": "code",
   "execution_count": 11,
   "id": "8fea70ce",
   "metadata": {},
   "outputs": [
    {
     "name": "stdout",
     "output_type": "stream",
     "text": [
      "Mean :  1750.67\n"
     ]
    }
   ],
   "source": [
    "import numpy as np\n",
    "\n",
    "profit_margin_mean = round(np.array(after_tax_on_profit).mean(),2)\n",
    "\n",
    "print(\"Mean : \", profit_margin_mean)\n"
   ]
  },
  {
   "cell_type": "code",
   "execution_count": 13,
   "id": "f7cfc916",
   "metadata": {},
   "outputs": [
    {
     "name": "stdout",
     "output_type": "stream",
     "text": [
      "[True, False, False, False, False, True, True, True, True, False, False, True]\n"
     ]
    }
   ],
   "source": [
    "# God Months\n",
    "good_month = []\n",
    "\n",
    "for i in range(len(revenue)):\n",
    "    good_month.append(after_tax_on_profit[i] > profit_margin_mean)\n",
    "print(good_month)"
   ]
  },
  {
   "cell_type": "code",
   "execution_count": 14,
   "id": "b1107edd",
   "metadata": {},
   "outputs": [
    {
     "name": "stdout",
     "output_type": "stream",
     "text": [
      "[False, True, True, True, True, False, False, False, False, True, True, False]\n"
     ]
    }
   ],
   "source": [
    "# Bad Months\n",
    "bad_month = []\n",
    "\n",
    "for i in range(len(revenue)):\n",
    "    bad_month.append(after_tax_on_profit[i] < profit_margin_mean)\n",
    "print(bad_month)"
   ]
  },
  {
   "cell_type": "code",
   "execution_count": 15,
   "id": "044db874",
   "metadata": {},
   "outputs": [
    {
     "name": "stdout",
     "output_type": "stream",
     "text": [
      "[False, False, False, False, False, False, False, False, False, False, False, True]\n"
     ]
    }
   ],
   "source": [
    "# Best Month\n",
    "best_month_list = []\n",
    "\n",
    "for i in range(len(revenue)):\n",
    "    best_month_list.append(after_tax_on_profit[i] == max(after_tax_on_profit))\n",
    "\n",
    "print(best_month_list)\n"
   ]
  },
  {
   "cell_type": "code",
   "execution_count": 16,
   "id": "f19c5793",
   "metadata": {},
   "outputs": [
    {
     "name": "stdout",
     "output_type": "stream",
     "text": [
      "[False, False, True, False, False, False, False, False, False, False, False, False]\n"
     ]
    }
   ],
   "source": [
    "# Worst Month\n",
    "worst_month_list = []\n",
    "\n",
    "for i in range(len(revenue)):\n",
    "    worst_month_list.append(after_tax_on_profit[i] == min(after_tax_on_profit))\n",
    "\n",
    "print(worst_month_list)"
   ]
  },
  {
   "cell_type": "code",
   "execution_count": 19,
   "id": "749549e9",
   "metadata": {},
   "outputs": [
    {
     "name": "stdout",
     "output_type": "stream",
     "text": [
      "Revenue\n",
      "[14.57, 7.61, 8.61, 9.18, 8.06, 8.11, 11.5, 9.77, 10.31, 14.38, 10.71, 15.43]\n",
      "-------------------------------\n",
      "Expenses\n",
      "[12.05, 5.7, 12.32, 12.09, 8.66, 0.84, 3.29, 5.82, 6.98, 16.62, 10.05, 3.8]\n",
      "-------------------------------\n",
      "Profit By Month\n",
      "[2.52, 1.91, -3.71, -2.91, -0.6, 7.26, 8.21, 3.94, 3.33, -2.24, 0.66, 11.63]\n",
      "-------------------------------\n",
      "Profit After Tax\n",
      "[1.77, 1.34, -2.6, -2.04, -0.42, 5.08, 5.75, 2.76, 2.33, -1.57, 0.46, 8.14]\n",
      "-------------------------------\n",
      "Good Month\n",
      "[True, False, False, False, False, True, True, True, True, False, False, True]\n",
      "-------------------------------\n",
      "Bad Month\n",
      "[True, False, False, False, False, True, True, True, True, False, False, True]\n",
      "-------------------------------\n",
      "Best Month\n",
      "[False, False, False, False, False, False, False, False, False, False, False, True]\n",
      "-------------------------------\n",
      "Worst Month\n",
      "[False, False, True, False, False, False, False, False, False, False, False, False]\n"
     ]
    }
   ],
   "source": [
    "# Convert All Calculations to Units of one thousand Dollars\n",
    "\n",
    "revenue_1000 = [round(i/1000, 2) for i in revenue]\n",
    "expenses_1000 = [round(i/1000,2)  for i in expenses]\n",
    "profit_1000 = [round(i/1000, 2) for i in profit_month]\n",
    "profit_after_tax_1000 = [round(i/1000, 2) for i in after_tax_on_profit]\n",
    "\n",
    "print(\"Revenue\")\n",
    "print(revenue_1000)\n",
    "print(\"-------------------------------\")\n",
    "print(\"Expenses\")\n",
    "print(expenses_1000)\n",
    "print(\"-------------------------------\")\n",
    "print(\"Profit By Month\")\n",
    "print(profit_1000)\n",
    "print(\"-------------------------------\")\n",
    "print(\"Profit After Tax\")\n",
    "print(profit_after_tax_1000)\n",
    "print(\"-------------------------------\")\n",
    "print(\"Good Month\")\n",
    "print(good_month)\n",
    "print(\"-------------------------------\")\n",
    "print(\"Bad Month\")\n",
    "print(good_month)\n",
    "print(\"-------------------------------\")\n",
    "print(\"Best Month\")\n",
    "print(best_month_list)\n",
    "print(\"-------------------------------\")\n",
    "print(\"Worst Month\")\n",
    "print(worst_month_list)\n"
   ]
  },
  {
   "cell_type": "code",
   "execution_count": null,
   "id": "a7611631",
   "metadata": {},
   "outputs": [],
   "source": []
  },
  {
   "cell_type": "code",
   "execution_count": null,
   "id": "f58e4767",
   "metadata": {},
   "outputs": [],
   "source": []
  },
  {
   "cell_type": "code",
   "execution_count": null,
   "id": "e815f986",
   "metadata": {},
   "outputs": [],
   "source": []
  }
 ],
 "metadata": {
  "kernelspec": {
   "display_name": "Python 3",
   "language": "python",
   "name": "python3"
  },
  "language_info": {
   "codemirror_mode": {
    "name": "ipython",
    "version": 3
   },
   "file_extension": ".py",
   "mimetype": "text/x-python",
   "name": "python",
   "nbconvert_exporter": "python",
   "pygments_lexer": "ipython3",
   "version": "3.8.8"
  }
 },
 "nbformat": 4,
 "nbformat_minor": 5
}
